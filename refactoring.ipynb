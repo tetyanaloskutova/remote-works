{
 "cells": [
  {
   "cell_type": "code",
   "execution_count": 1,
   "metadata": {},
   "outputs": [],
   "source": [
    "import os"
   ]
  },
  {
   "cell_type": "code",
   "execution_count": 2,
   "metadata": {},
   "outputs": [
    {
     "data": {
      "text/plain": [
       "'C:\\\\conda\\\\saleor\\\\pycharm\\\\remote_works'"
      ]
     },
     "execution_count": 2,
     "metadata": {},
     "output_type": "execute_result"
    }
   ],
   "source": [
    "os.getcwd()"
   ]
  },
  {
   "cell_type": "code",
   "execution_count": 8,
   "metadata": {},
   "outputs": [
    {
     "name": "stdout",
     "output_type": "stream",
     "text": [
      "remote_works\n"
     ]
    }
   ],
   "source": [
    "import glob\n",
    "\n",
    "for source_name in glob.glob(os.getcwd()):\n",
    "    path, fullname = os.path.split(source_name)\n",
    "    basename, ext = os.path.splitext(fullname)\n",
    "    #target_name = os.path.join(path, '{}{}'.format(current_day, ext))\n",
    "    #os.rename(source_name, target_name)\n",
    "    if \"web\" in basename:\n",
    "        print(basename)\n",
    "    else:\n",
    "        print(fullname)"
   ]
  },
  {
   "cell_type": "code",
   "execution_count": 10,
   "metadata": {},
   "outputs": [
    {
     "data": {
      "text/plain": [
       "'C:\\\\conda\\\\saleor\\\\pycharm\\\\remote_works\\\\**\\\\*'"
      ]
     },
     "execution_count": 10,
     "metadata": {},
     "output_type": "execute_result"
    }
   ],
   "source": [
    "os.path.join(os.getcwd(), '**','*')"
   ]
  },
  {
   "cell_type": "code",
   "execution_count": 77,
   "metadata": {},
   "outputs": [],
   "source": [
    "#import os\n",
    "#from glob import iglob\n",
    "\n",
    "# This will return absolute paths\n",
    "file_list = [f for f in glob.iglob(os.path.join(os.getcwd(), '**','*'), recursive=True) if os.path.isfile(f)]\n",
    "\n"
   ]
  },
  {
   "cell_type": "code",
   "execution_count": 37,
   "metadata": {},
   "outputs": [],
   "source": [
    "import re"
   ]
  },
  {
   "cell_type": "code",
   "execution_count": 44,
   "metadata": {},
   "outputs": [
    {
     "data": {
      "text/plain": [
       "'C:\\\\conda\\\\saleor\\\\pycharm\\\\remote_works\\\\tests\\\\gateway\\\\peststripe.py'"
      ]
     },
     "execution_count": 44,
     "metadata": {},
     "output_type": "execute_result"
    }
   ],
   "source": [
    "print(f)\n",
    "re.sub(r'test(\\b|_)','pest',f)"
   ]
  },
  {
   "cell_type": "code",
   "execution_count": 59,
   "metadata": {},
   "outputs": [],
   "source": [
    "for f in file_list:\n",
    "    if 'products' in f:\n",
    "        os.rename(f, f.replace('products','skills'))\n",
    "    elif 'production' in f:\n",
    "        a = 1\n",
    "    elif 'product_' in f:\n",
    "        os.rename(f, f.replace('product_','skill_'))\n",
    "    elif 'product' in f:\n",
    "        os.rename(f, f.replace('product','skill'))\n",
    "    if 'shipping' in f:\n",
    "        os.rename(f, f.replace('shipping','delivery'))\n",
    "    if 'ordered' in f:\n",
    "        a = 1\n",
    "    elif 'border' or 'Border' in f:\n",
    "        a = 1 \n",
    "    elif 'recorder' in f:\n",
    "        a = 1     \n",
    "    elif 'orderi' in f:\n",
    "        a = 1\n",
    "    elif 'orders' in f:\n",
    "        os.rename(f, f.replace('orders','tasks'))\n",
    "    elif 'task' in f:\n",
    "        os.rename(f, f.replace('task','task'))\n",
    "    if 'stock' in f:\n",
    "        os.rename(f, f.replace('stock','availability'))\n",
    "    "
   ]
  },
  {
   "cell_type": "code",
   "execution_count": 78,
   "metadata": {},
   "outputs": [],
   "source": [
    "for f in file_list:\n",
    "    try:\n",
    "        if 'Products' in f:\n",
    "            os.rename(f, f.replace('Products','Skills'))\n",
    "        elif 'Production' in f:\n",
    "            a = 1\n",
    "        elif 'Product_' in f:\n",
    "            os.rename(f, f.replace('Product_','Skill_'))\n",
    "        elif 'Product' in f:\n",
    "            os.rename(f, f.replace('Product','Skill'))\n",
    "        if 'Shipping' in f:\n",
    "            os.rename(f, f.replace('Shipping','Delivery'))\n",
    "        if 'Ordered' in f:\n",
    "            a = 1\n",
    "        elif 'border' or 'Border' in f:\n",
    "            a = 1 \n",
    "        elif 'Recorder' in f:\n",
    "            a = 1     \n",
    "        elif 'Orderi' in f:\n",
    "            a = 1\n",
    "        elif 'Orders' in f:\n",
    "            os.rename(f, f.replace('Orders','Tasks'))\n",
    "        elif 'Order' in f:\n",
    "            os.rename(f, f.replace('Order','Task'))\n",
    "        if 'Stock' in f:\n",
    "            os.rename(f, f.replace('Stock','Availability'))\n",
    "    except FileNotFoundError as e:\n",
    "        print(e)"
   ]
  },
  {
   "cell_type": "code",
   "execution_count": 65,
   "metadata": {},
   "outputs": [],
   "source": [
    "for f in file_list:\n",
    "    if 'stocki' in f:\n",
    "        print(f)"
   ]
  },
  {
   "cell_type": "code",
   "execution_count": 17,
   "metadata": {},
   "outputs": [
    {
     "data": {
      "text/plain": [
       "True"
      ]
     },
     "execution_count": 17,
     "metadata": {},
     "output_type": "execute_result"
    }
   ],
   "source": [
    "'package' in f"
   ]
  },
  {
   "cell_type": "code",
   "execution_count": null,
   "metadata": {},
   "outputs": [],
   "source": []
  }
 ],
 "metadata": {
  "kernelspec": {
   "display_name": "Python 3",
   "language": "python",
   "name": "python3"
  },
  "language_info": {
   "codemirror_mode": {
    "name": "ipython",
    "version": 3
   },
   "file_extension": ".py",
   "mimetype": "text/x-python",
   "name": "python",
   "nbconvert_exporter": "python",
   "pygments_lexer": "ipython3",
   "version": "3.6.7"
  }
 },
 "nbformat": 4,
 "nbformat_minor": 2
}
