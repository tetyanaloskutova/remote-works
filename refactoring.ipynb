{
 "cells": [
  {
   "cell_type": "code",
   "execution_count": 79,
   "metadata": {},
   "outputs": [],
   "source": [
    "import os"
   ]
  },
  {
   "cell_type": "code",
   "execution_count": 80,
   "metadata": {},
   "outputs": [
    {
     "data": {
      "text/plain": [
       "'C:\\\\conda\\\\saleor\\\\pycharm\\\\remote_works'"
      ]
     },
     "execution_count": 80,
     "metadata": {},
     "output_type": "execute_result"
    }
   ],
   "source": [
    "os.getcwd()"
   ]
  },
  {
   "cell_type": "code",
   "execution_count": 8,
   "metadata": {},
   "outputs": [
    {
     "name": "stdout",
     "output_type": "stream",
     "text": [
      "remote_works\n"
     ]
    }
   ],
   "source": [
    "import glob\n",
    "\n",
    "for source_name in glob.glob(os.getcwd()):\n",
    "    path, fullname = os.path.split(source_name)\n",
    "    basename, ext = os.path.splitext(fullname)\n",
    "    #target_name = os.path.join(path, '{}{}'.format(current_day, ext))\n",
    "    #os.rename(source_name, target_name)\n",
    "    if \"web\" in basename:\n",
    "        print(basename)\n",
    "    else:\n",
    "        print(fullname)"
   ]
  },
  {
   "cell_type": "code",
   "execution_count": 10,
   "metadata": {},
   "outputs": [
    {
     "data": {
      "text/plain": [
       "'C:\\\\conda\\\\saleor\\\\pycharm\\\\remote_works\\\\**\\\\*'"
      ]
     },
     "execution_count": 10,
     "metadata": {},
     "output_type": "execute_result"
    }
   ],
   "source": [
    "os.path.join(os.getcwd(), '**','*')"
   ]
  },
  {
   "cell_type": "code",
   "execution_count": 77,
   "metadata": {},
   "outputs": [],
   "source": [
    "#import os\n",
    "#from glob import iglob\n",
    "\n",
    "# This will return absolute paths\n",
    "file_list = [f for f in glob.iglob(os.path.join(os.getcwd(), '**','*'), recursive=True) if os.path.isfile(f)]\n",
    "\n"
   ]
  },
  {
   "cell_type": "code",
   "execution_count": 37,
   "metadata": {},
   "outputs": [],
   "source": [
    "import re"
   ]
  },
  {
   "cell_type": "code",
   "execution_count": 44,
   "metadata": {},
   "outputs": [
    {
     "data": {
      "text/plain": [
       "'C:\\\\conda\\\\saleor\\\\pycharm\\\\remote_works\\\\tests\\\\gateway\\\\peststripe.py'"
      ]
     },
     "execution_count": 44,
     "metadata": {},
     "output_type": "execute_result"
    }
   ],
   "source": [
    "print(f)\n",
    "re.sub(r'test(\\b|_)','pest',f)"
   ]
  },
  {
   "cell_type": "code",
   "execution_count": 59,
   "metadata": {},
   "outputs": [],
   "source": [
    "for f in file_list:\n",
    "    if 'products' in f:\n",
    "        os.rename(f, f.replace('products','skills'))\n",
    "    elif 'production' in f:\n",
    "        a = 1\n",
    "    elif 'product_' in f:\n",
    "        os.rename(f, f.replace('product_','skill_'))\n",
    "    elif 'product' in f:\n",
    "        os.rename(f, f.replace('product','skill'))\n",
    "    if 'shipping' in f:\n",
    "        os.rename(f, f.replace('shipping','delivery'))\n",
    "    if 'ordered' in f:\n",
    "        a = 1\n",
    "    elif 'border' or 'Border' in f:\n",
    "        a = 1 \n",
    "    elif 'recorder' in f:\n",
    "        a = 1     \n",
    "    elif 'orderi' in f:\n",
    "        a = 1\n",
    "    elif 'orders' in f:\n",
    "        os.rename(f, f.replace('orders','tasks'))\n",
    "    elif 'task' in f:\n",
    "        os.rename(f, f.replace('task','task'))\n",
    "    if 'stock' in f:\n",
    "        os.rename(f, f.replace('stock','availability'))\n",
    "    "
   ]
  },
  {
   "cell_type": "code",
   "execution_count": 87,
   "metadata": {},
   "outputs": [],
   "source": [
    "file_list = [f for f in glob.iglob(os.path.join(r'C:\\conda\\saleor\\pycharm\\remote_works\\remote_works\\static\\dashboard-next\\tasks\\components', '**','*'), recursive=True) if os.path.isfile(f)]\n"
   ]
  },
  {
   "cell_type": "code",
   "execution_count": 88,
   "metadata": {},
   "outputs": [
    {
     "data": {
      "text/plain": [
       "['C:\\\\conda\\\\saleor\\\\pycharm\\\\remote_works\\\\remote_works\\\\static\\\\dashboard-next\\\\tasks\\\\components\\\\TaskAddressEditDialog\\\\index.ts',\n",
       " 'C:\\\\conda\\\\saleor\\\\pycharm\\\\remote_works\\\\remote_works\\\\static\\\\dashboard-next\\\\tasks\\\\components\\\\TaskAddressEditDialog\\\\OrderAddressEditDialog.tsx',\n",
       " 'C:\\\\conda\\\\saleor\\\\pycharm\\\\remote_works\\\\remote_works\\\\static\\\\dashboard-next\\\\tasks\\\\components\\\\TaskCancelDialog\\\\index.ts',\n",
       " 'C:\\\\conda\\\\saleor\\\\pycharm\\\\remote_works\\\\remote_works\\\\static\\\\dashboard-next\\\\tasks\\\\components\\\\TaskCancelDialog\\\\OrderCancelDialog.tsx',\n",
       " 'C:\\\\conda\\\\saleor\\\\pycharm\\\\remote_works\\\\remote_works\\\\static\\\\dashboard-next\\\\tasks\\\\components\\\\TaskCustomer\\\\index.ts',\n",
       " 'C:\\\\conda\\\\saleor\\\\pycharm\\\\remote_works\\\\remote_works\\\\static\\\\dashboard-next\\\\tasks\\\\components\\\\TaskCustomer\\\\OrderCustomer.tsx',\n",
       " 'C:\\\\conda\\\\saleor\\\\pycharm\\\\remote_works\\\\remote_works\\\\static\\\\dashboard-next\\\\tasks\\\\components\\\\TaskCustomerEditDialog\\\\index.ts',\n",
       " 'C:\\\\conda\\\\saleor\\\\pycharm\\\\remote_works\\\\remote_works\\\\static\\\\dashboard-next\\\\tasks\\\\components\\\\TaskCustomerEditDialog\\\\OrderCustomerEditDialog.tsx',\n",
       " 'C:\\\\conda\\\\saleor\\\\pycharm\\\\remote_works\\\\remote_works\\\\static\\\\dashboard-next\\\\tasks\\\\components\\\\TaskCustomerNote\\\\index.ts',\n",
       " 'C:\\\\conda\\\\saleor\\\\pycharm\\\\remote_works\\\\remote_works\\\\static\\\\dashboard-next\\\\tasks\\\\components\\\\TaskCustomerNote\\\\OrderCustomerNote.tsx',\n",
       " 'C:\\\\conda\\\\saleor\\\\pycharm\\\\remote_works\\\\remote_works\\\\static\\\\dashboard-next\\\\tasks\\\\components\\\\TaskDeliveryMethodEditDialog\\\\index.ts',\n",
       " 'C:\\\\conda\\\\saleor\\\\pycharm\\\\remote_works\\\\remote_works\\\\static\\\\dashboard-next\\\\tasks\\\\components\\\\TaskDeliveryMethodEditDialog\\\\OrderDeliveryMethodEditDialog.tsx',\n",
       " 'C:\\\\conda\\\\saleor\\\\pycharm\\\\remote_works\\\\remote_works\\\\static\\\\dashboard-next\\\\tasks\\\\components\\\\TaskDetailsPage\\\\index.ts',\n",
       " 'C:\\\\conda\\\\saleor\\\\pycharm\\\\remote_works\\\\remote_works\\\\static\\\\dashboard-next\\\\tasks\\\\components\\\\TaskDetailsPage\\\\OrderDetailsPage.tsx',\n",
       " 'C:\\\\conda\\\\saleor\\\\pycharm\\\\remote_works\\\\remote_works\\\\static\\\\dashboard-next\\\\tasks\\\\components\\\\TaskDraftCancelDialog\\\\index.ts',\n",
       " 'C:\\\\conda\\\\saleor\\\\pycharm\\\\remote_works\\\\remote_works\\\\static\\\\dashboard-next\\\\tasks\\\\components\\\\TaskDraftCancelDialog\\\\OrderDraftCancelDialog.tsx',\n",
       " 'C:\\\\conda\\\\saleor\\\\pycharm\\\\remote_works\\\\remote_works\\\\static\\\\dashboard-next\\\\tasks\\\\components\\\\TaskDraftDetails\\\\index.ts',\n",
       " 'C:\\\\conda\\\\saleor\\\\pycharm\\\\remote_works\\\\remote_works\\\\static\\\\dashboard-next\\\\tasks\\\\components\\\\TaskDraftDetails\\\\OrderDraftDetails.tsx',\n",
       " 'C:\\\\conda\\\\saleor\\\\pycharm\\\\remote_works\\\\remote_works\\\\static\\\\dashboard-next\\\\tasks\\\\components\\\\TaskDraftDetailsSkills\\\\index.ts',\n",
       " 'C:\\\\conda\\\\saleor\\\\pycharm\\\\remote_works\\\\remote_works\\\\static\\\\dashboard-next\\\\tasks\\\\components\\\\TaskDraftDetailsSkills\\\\OrderDraftDetailsSkills.tsx',\n",
       " 'C:\\\\conda\\\\saleor\\\\pycharm\\\\remote_works\\\\remote_works\\\\static\\\\dashboard-next\\\\tasks\\\\components\\\\TaskDraftDetailsSummary\\\\index.ts',\n",
       " 'C:\\\\conda\\\\saleor\\\\pycharm\\\\remote_works\\\\remote_works\\\\static\\\\dashboard-next\\\\tasks\\\\components\\\\TaskDraftDetailsSummary\\\\OrderDraftDetailsSummary.tsx',\n",
       " 'C:\\\\conda\\\\saleor\\\\pycharm\\\\remote_works\\\\remote_works\\\\static\\\\dashboard-next\\\\tasks\\\\components\\\\TaskDraftFinalizeDialog\\\\index.ts',\n",
       " 'C:\\\\conda\\\\saleor\\\\pycharm\\\\remote_works\\\\remote_works\\\\static\\\\dashboard-next\\\\tasks\\\\components\\\\TaskDraftFinalizeDialog\\\\OrderDraftFinalizeDialog.tsx',\n",
       " 'C:\\\\conda\\\\saleor\\\\pycharm\\\\remote_works\\\\remote_works\\\\static\\\\dashboard-next\\\\tasks\\\\components\\\\TaskDraftPage\\\\index.ts',\n",
       " 'C:\\\\conda\\\\saleor\\\\pycharm\\\\remote_works\\\\remote_works\\\\static\\\\dashboard-next\\\\tasks\\\\components\\\\TaskDraftPage\\\\OrderDraftPage.tsx',\n",
       " 'C:\\\\conda\\\\saleor\\\\pycharm\\\\remote_works\\\\remote_works\\\\static\\\\dashboard-next\\\\tasks\\\\components\\\\TaskFulfillment\\\\index.ts',\n",
       " 'C:\\\\conda\\\\saleor\\\\pycharm\\\\remote_works\\\\remote_works\\\\static\\\\dashboard-next\\\\tasks\\\\components\\\\TaskFulfillment\\\\OrderFulfillment.tsx',\n",
       " 'C:\\\\conda\\\\saleor\\\\pycharm\\\\remote_works\\\\remote_works\\\\static\\\\dashboard-next\\\\tasks\\\\components\\\\TaskFulfillmentCancelDialog\\\\index.ts',\n",
       " 'C:\\\\conda\\\\saleor\\\\pycharm\\\\remote_works\\\\remote_works\\\\static\\\\dashboard-next\\\\tasks\\\\components\\\\TaskFulfillmentCancelDialog\\\\OrderFulfillmentCancelDialog.tsx',\n",
       " 'C:\\\\conda\\\\saleor\\\\pycharm\\\\remote_works\\\\remote_works\\\\static\\\\dashboard-next\\\\tasks\\\\components\\\\TaskFulfillmentDialog\\\\index.ts',\n",
       " 'C:\\\\conda\\\\saleor\\\\pycharm\\\\remote_works\\\\remote_works\\\\static\\\\dashboard-next\\\\tasks\\\\components\\\\TaskFulfillmentDialog\\\\OrderFulfillmentDialog.tsx',\n",
       " 'C:\\\\conda\\\\saleor\\\\pycharm\\\\remote_works\\\\remote_works\\\\static\\\\dashboard-next\\\\tasks\\\\components\\\\TaskFulfillmentTrackingDialog\\\\index.ts',\n",
       " 'C:\\\\conda\\\\saleor\\\\pycharm\\\\remote_works\\\\remote_works\\\\static\\\\dashboard-next\\\\tasks\\\\components\\\\TaskFulfillmentTrackingDialog\\\\OrderFulfillmentTrackingDialog.tsx',\n",
       " 'C:\\\\conda\\\\saleor\\\\pycharm\\\\remote_works\\\\remote_works\\\\static\\\\dashboard-next\\\\tasks\\\\components\\\\TaskHistory\\\\index.ts',\n",
       " 'C:\\\\conda\\\\saleor\\\\pycharm\\\\remote_works\\\\remote_works\\\\static\\\\dashboard-next\\\\tasks\\\\components\\\\TaskHistory\\\\OrderHistory.tsx',\n",
       " 'C:\\\\conda\\\\saleor\\\\pycharm\\\\remote_works\\\\remote_works\\\\static\\\\dashboard-next\\\\tasks\\\\components\\\\TaskList\\\\index.ts',\n",
       " 'C:\\\\conda\\\\saleor\\\\pycharm\\\\remote_works\\\\remote_works\\\\static\\\\dashboard-next\\\\tasks\\\\components\\\\TaskList\\\\OrderList.tsx',\n",
       " 'C:\\\\conda\\\\saleor\\\\pycharm\\\\remote_works\\\\remote_works\\\\static\\\\dashboard-next\\\\tasks\\\\components\\\\TaskListFilter\\\\index.ts',\n",
       " 'C:\\\\conda\\\\saleor\\\\pycharm\\\\remote_works\\\\remote_works\\\\static\\\\dashboard-next\\\\tasks\\\\components\\\\TaskListFilter\\\\OrderListFilter.tsx',\n",
       " 'C:\\\\conda\\\\saleor\\\\pycharm\\\\remote_works\\\\remote_works\\\\static\\\\dashboard-next\\\\tasks\\\\components\\\\TaskListPage\\\\index.ts',\n",
       " 'C:\\\\conda\\\\saleor\\\\pycharm\\\\remote_works\\\\remote_works\\\\static\\\\dashboard-next\\\\tasks\\\\components\\\\TaskListPage\\\\OrderListPage.tsx',\n",
       " 'C:\\\\conda\\\\saleor\\\\pycharm\\\\remote_works\\\\remote_works\\\\static\\\\dashboard-next\\\\tasks\\\\components\\\\TaskMarkAsPaidDialog\\\\index.ts',\n",
       " 'C:\\\\conda\\\\saleor\\\\pycharm\\\\remote_works\\\\remote_works\\\\static\\\\dashboard-next\\\\tasks\\\\components\\\\TaskMarkAsPaidDialog\\\\OrderMarkAsPaidDialog.tsx',\n",
       " 'C:\\\\conda\\\\saleor\\\\pycharm\\\\remote_works\\\\remote_works\\\\static\\\\dashboard-next\\\\tasks\\\\components\\\\TaskPayment\\\\index.ts',\n",
       " 'C:\\\\conda\\\\saleor\\\\pycharm\\\\remote_works\\\\remote_works\\\\static\\\\dashboard-next\\\\tasks\\\\components\\\\TaskPayment\\\\OrderPayment.tsx',\n",
       " 'C:\\\\conda\\\\saleor\\\\pycharm\\\\remote_works\\\\remote_works\\\\static\\\\dashboard-next\\\\tasks\\\\components\\\\TaskPaymentDialog\\\\index.ts',\n",
       " 'C:\\\\conda\\\\saleor\\\\pycharm\\\\remote_works\\\\remote_works\\\\static\\\\dashboard-next\\\\tasks\\\\components\\\\TaskPaymentDialog\\\\OrderPaymentDialog.tsx',\n",
       " 'C:\\\\conda\\\\saleor\\\\pycharm\\\\remote_works\\\\remote_works\\\\static\\\\dashboard-next\\\\tasks\\\\components\\\\TaskPaymentVoidDialog\\\\index.ts',\n",
       " 'C:\\\\conda\\\\saleor\\\\pycharm\\\\remote_works\\\\remote_works\\\\static\\\\dashboard-next\\\\tasks\\\\components\\\\TaskPaymentVoidDialog\\\\OrderPaymentVoidDialog.tsx',\n",
       " 'C:\\\\conda\\\\saleor\\\\pycharm\\\\remote_works\\\\remote_works\\\\static\\\\dashboard-next\\\\tasks\\\\components\\\\TaskSkillAddDialog\\\\index.ts',\n",
       " 'C:\\\\conda\\\\saleor\\\\pycharm\\\\remote_works\\\\remote_works\\\\static\\\\dashboard-next\\\\tasks\\\\components\\\\TaskSkillAddDialog\\\\OrderSkillAddDialog.tsx',\n",
       " 'C:\\\\conda\\\\saleor\\\\pycharm\\\\remote_works\\\\remote_works\\\\static\\\\dashboard-next\\\\tasks\\\\components\\\\TaskUnfulfilledItems\\\\index.ts',\n",
       " 'C:\\\\conda\\\\saleor\\\\pycharm\\\\remote_works\\\\remote_works\\\\static\\\\dashboard-next\\\\tasks\\\\components\\\\TaskUnfulfilledItems\\\\OrderUnfulfilledItems.tsx']"
      ]
     },
     "execution_count": 88,
     "metadata": {},
     "output_type": "execute_result"
    }
   ],
   "source": [
    "file_list"
   ]
  },
  {
   "cell_type": "code",
   "execution_count": 89,
   "metadata": {},
   "outputs": [],
   "source": [
    "for f in file_list:\n",
    "    try:\n",
    "        if 'Order' in f:\n",
    "            os.rename(f, f.replace('Order','Task'))\n",
    "        if 'Stock' in f:\n",
    "            os.rename(f, f.replace('Stock','Availability'))\n",
    "    except FileNotFoundError as e:\n",
    "        print(e)"
   ]
  },
  {
   "cell_type": "code",
   "execution_count": 85,
   "metadata": {},
   "outputs": [],
   "source": [
    "for f in file_list:\n",
    "    try:\n",
    "        if 'Products' in f:\n",
    "            os.rename(f, f.replace('Products','Skills'))\n",
    "        elif 'Production' in f:\n",
    "            a = 1\n",
    "        elif 'Product_' in f:\n",
    "            os.rename(f, f.replace('Product_','Skill_'))\n",
    "        elif 'Product' in f:\n",
    "            os.rename(f, f.replace('Product','Skill'))\n",
    "        if 'Shipping' in f:\n",
    "            os.rename(f, f.replace('Shipping','Delivery'))\n",
    "        if 'Ordered' in f:\n",
    "            a = 1\n",
    "        elif 'border' or 'Border' in f:\n",
    "            a = 1 \n",
    "        elif 'Recorder' in f:\n",
    "            a = 1     \n",
    "        elif 'Orderi' in f:\n",
    "            a = 1\n",
    "        elif 'Orders' in f:\n",
    "            os.rename(f, f.replace('Orders','Tasks'))\n",
    "        elif 'Order' in f:\n",
    "            os.rename(f, f.replace('Order','Task'))\n",
    "        if 'Stock' in f:\n",
    "            os.rename(f, f.replace('Stock','Availability'))\n",
    "    except FileNotFoundError as e:\n",
    "        print(e)"
   ]
  },
  {
   "cell_type": "code",
   "execution_count": 65,
   "metadata": {},
   "outputs": [],
   "source": [
    "for f in file_list:\n",
    "    if 'stocki' in f:\n",
    "        print(f)"
   ]
  },
  {
   "cell_type": "code",
   "execution_count": 17,
   "metadata": {},
   "outputs": [
    {
     "data": {
      "text/plain": [
       "True"
      ]
     },
     "execution_count": 17,
     "metadata": {},
     "output_type": "execute_result"
    }
   ],
   "source": [
    "'package' in f"
   ]
  },
  {
   "cell_type": "code",
   "execution_count": null,
   "metadata": {},
   "outputs": [],
   "source": []
  }
 ],
 "metadata": {
  "kernelspec": {
   "display_name": "Python 3",
   "language": "python",
   "name": "python3"
  },
  "language_info": {
   "codemirror_mode": {
    "name": "ipython",
    "version": 3
   },
   "file_extension": ".py",
   "mimetype": "text/x-python",
   "name": "python",
   "nbconvert_exporter": "python",
   "pygments_lexer": "ipython3",
   "version": "3.6.7"
  }
 },
 "nbformat": 4,
 "nbformat_minor": 2
}
